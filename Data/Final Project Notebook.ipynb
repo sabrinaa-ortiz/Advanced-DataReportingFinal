{
 "cells": [
  {
   "cell_type": "code",
   "execution_count": 132,
   "id": "1c28ec10-7415-4aa6-a594-962ccd08ab8b",
   "metadata": {},
   "outputs": [],
   "source": [
    "import pandas as pd"
   ]
  },
  {
   "cell_type": "markdown",
   "id": "9c48debc-b9a3-4b1c-94b3-c009b50b734c",
   "metadata": {},
   "source": [
    "## Part 1: Percentages of Keywords by Industry"
   ]
  },
  {
   "cell_type": "code",
   "execution_count": 135,
   "id": "7dbfd834-8fde-4fe7-a997-f0395d304cc3",
   "metadata": {},
   "outputs": [],
   "source": [
    "postings_df = pd.read_csv('/Users/sabrinaortiz/Desktop/dataProjects/Final_Project/project_data/postings.csv')\n",
    "industries_df = pd.read_csv('/Users/sabrinaortiz/Desktop/dataProjects/Final_Project/project_data/companies/company_industries.csv')"
   ]
  },
  {
   "cell_type": "code",
   "execution_count": 137,
   "id": "b4bc77fe-d640-4b8c-9a89-f4ce4fe7c758",
   "metadata": {},
   "outputs": [
    {
     "data": {
      "text/plain": [
       "job_id                          int64\n",
       "company_name                   object\n",
       "title                          object\n",
       "description                    object\n",
       "max_salary                    float64\n",
       "pay_period                     object\n",
       "location                       object\n",
       "company_id                    float64\n",
       "views                         float64\n",
       "med_salary                    float64\n",
       "min_salary                    float64\n",
       "formatted_work_type            object\n",
       "applies                       float64\n",
       "original_listed_time          float64\n",
       "remote_allowed                float64\n",
       "job_posting_url                object\n",
       "application_url                object\n",
       "application_type               object\n",
       "expiry                        float64\n",
       "closed_time                   float64\n",
       "formatted_experience_level     object\n",
       "skills_desc                    object\n",
       "listed_time                   float64\n",
       "posting_domain                 object\n",
       "sponsored                       int64\n",
       "work_type                      object\n",
       "currency                       object\n",
       "compensation_type              object\n",
       "normalized_salary             float64\n",
       "zip_code                      float64\n",
       "fips                          float64\n",
       "dtype: object"
      ]
     },
     "execution_count": 137,
     "metadata": {},
     "output_type": "execute_result"
    }
   ],
   "source": [
    "# checking data types of job postings data\n",
    "postings_df.dtypes"
   ]
  },
  {
   "cell_type": "code",
   "execution_count": 139,
   "id": "c9840b42-0bb5-45d0-8819-8867b8b49bed",
   "metadata": {},
   "outputs": [],
   "source": [
    "# dropping any NAs in the description column\n",
    "postings_df = postings_df.dropna(subset=['description'])"
   ]
  },
  {
   "cell_type": "code",
   "execution_count": 141,
   "id": "6c2f7c5a-1ca2-408f-bf13-ffb403ac5a50",
   "metadata": {},
   "outputs": [
    {
     "data": {
      "text/plain": [
       "company_id\n",
       "1687254     2\n",
       "2471716     2\n",
       "69192017    2\n",
       "27292       2\n",
       "2831596     2\n",
       "           ..\n",
       "37067372    1\n",
       "33267093    1\n",
       "9183828     1\n",
       "165970      1\n",
       "8060959     1\n",
       "Name: count, Length: 24365, dtype: int64"
      ]
     },
     "execution_count": 141,
     "metadata": {},
     "output_type": "execute_result"
    }
   ],
   "source": [
    "# check for any duplicates in the industries df before merging it to the postings df\n",
    "industries_df['company_id'].value_counts()"
   ]
  },
  {
   "cell_type": "code",
   "execution_count": 143,
   "id": "52681b83-1ee4-4584-aa20-1756c58d6787",
   "metadata": {},
   "outputs": [],
   "source": [
    "# dropping duplicates since some company IDs have 2 industries\n",
    "industries_df = industries_df.drop_duplicates(subset=['company_id'])"
   ]
  },
  {
   "cell_type": "code",
   "execution_count": 145,
   "id": "bdc2407b-952e-4d43-b338-0c267d2b5ff6",
   "metadata": {},
   "outputs": [],
   "source": [
    "# merging the industries into the larger postings dataset\n",
    "postings_df = pd.merge(postings_df, industries_df, how='left', on='company_id')"
   ]
  },
  {
   "cell_type": "code",
   "execution_count": 147,
   "id": "91d2c5ee-e4a0-4ba2-bd90-1685986d8057",
   "metadata": {},
   "outputs": [],
   "source": [
    "# creating a column to identify whether a job description contains keywords related to AI\n",
    "## having an issue with filtering based on case sensitivity\n",
    "postings_df['Mentions_AI'] = postings_df['description'].str.contains(\n",
    "    r'\\bAI\\b|\\bmachine learning\\b|\\bartificial intelligence\\b|\\bgenerative AI\\b|\\bdeep learning\\b|\\blarge language model\\b',\n",
    "    case=False,\n",
    "    na=False\n",
    ")"
   ]
  },
  {
   "cell_type": "code",
   "execution_count": 149,
   "id": "221a9736-02b8-4db6-ac53-618a1b6610ec",
   "metadata": {},
   "outputs": [
    {
     "data": {
      "text/plain": [
       "Mentions_AI\n",
       "False    119465\n",
       "True       4377\n",
       "Name: count, dtype: int64"
      ]
     },
     "execution_count": 149,
     "metadata": {},
     "output_type": "execute_result"
    }
   ],
   "source": [
    "# checking to see how many posts were identified to include keywords\n",
    "postings_df['Mentions_AI'].value_counts()"
   ]
  },
  {
   "cell_type": "code",
   "execution_count": 151,
   "id": "7f251e19-f6eb-43dd-b386-2d9434d19bd6",
   "metadata": {},
   "outputs": [
    {
     "data": {
      "text/html": [
       "<div>\n",
       "<style scoped>\n",
       "    .dataframe tbody tr th:only-of-type {\n",
       "        vertical-align: middle;\n",
       "    }\n",
       "\n",
       "    .dataframe tbody tr th {\n",
       "        vertical-align: top;\n",
       "    }\n",
       "\n",
       "    .dataframe thead th {\n",
       "        text-align: right;\n",
       "    }\n",
       "</style>\n",
       "<table border=\"1\" class=\"dataframe\">\n",
       "  <thead>\n",
       "    <tr style=\"text-align: right;\">\n",
       "      <th></th>\n",
       "      <th>job_id</th>\n",
       "      <th>company_name</th>\n",
       "      <th>title</th>\n",
       "      <th>description</th>\n",
       "      <th>max_salary</th>\n",
       "      <th>pay_period</th>\n",
       "      <th>location</th>\n",
       "      <th>company_id</th>\n",
       "      <th>views</th>\n",
       "      <th>med_salary</th>\n",
       "      <th>...</th>\n",
       "      <th>posting_domain</th>\n",
       "      <th>sponsored</th>\n",
       "      <th>work_type</th>\n",
       "      <th>currency</th>\n",
       "      <th>compensation_type</th>\n",
       "      <th>normalized_salary</th>\n",
       "      <th>zip_code</th>\n",
       "      <th>fips</th>\n",
       "      <th>industry</th>\n",
       "      <th>Mentions_AI</th>\n",
       "    </tr>\n",
       "  </thead>\n",
       "  <tbody>\n",
       "    <tr>\n",
       "      <th>0</th>\n",
       "      <td>921716</td>\n",
       "      <td>Corcoran Sawyer Smith</td>\n",
       "      <td>Marketing Coordinator</td>\n",
       "      <td>Job descriptionA leading real estate firm in N...</td>\n",
       "      <td>20.0</td>\n",
       "      <td>HOURLY</td>\n",
       "      <td>Princeton, NJ</td>\n",
       "      <td>2774458.0</td>\n",
       "      <td>20.0</td>\n",
       "      <td>NaN</td>\n",
       "      <td>...</td>\n",
       "      <td>NaN</td>\n",
       "      <td>0</td>\n",
       "      <td>FULL_TIME</td>\n",
       "      <td>USD</td>\n",
       "      <td>BASE_SALARY</td>\n",
       "      <td>38480.0</td>\n",
       "      <td>8540.0</td>\n",
       "      <td>34021.0</td>\n",
       "      <td>Real Estate</td>\n",
       "      <td>False</td>\n",
       "    </tr>\n",
       "    <tr>\n",
       "      <th>1</th>\n",
       "      <td>1829192</td>\n",
       "      <td>NaN</td>\n",
       "      <td>Mental Health Therapist/Counselor</td>\n",
       "      <td>At Aspen Therapy and Wellness , we are committ...</td>\n",
       "      <td>50.0</td>\n",
       "      <td>HOURLY</td>\n",
       "      <td>Fort Collins, CO</td>\n",
       "      <td>NaN</td>\n",
       "      <td>1.0</td>\n",
       "      <td>NaN</td>\n",
       "      <td>...</td>\n",
       "      <td>NaN</td>\n",
       "      <td>0</td>\n",
       "      <td>FULL_TIME</td>\n",
       "      <td>USD</td>\n",
       "      <td>BASE_SALARY</td>\n",
       "      <td>83200.0</td>\n",
       "      <td>80521.0</td>\n",
       "      <td>8069.0</td>\n",
       "      <td>NaN</td>\n",
       "      <td>False</td>\n",
       "    </tr>\n",
       "    <tr>\n",
       "      <th>2</th>\n",
       "      <td>10998357</td>\n",
       "      <td>The National Exemplar</td>\n",
       "      <td>Assitant Restaurant Manager</td>\n",
       "      <td>The National Exemplar is accepting application...</td>\n",
       "      <td>65000.0</td>\n",
       "      <td>YEARLY</td>\n",
       "      <td>Cincinnati, OH</td>\n",
       "      <td>64896719.0</td>\n",
       "      <td>8.0</td>\n",
       "      <td>NaN</td>\n",
       "      <td>...</td>\n",
       "      <td>NaN</td>\n",
       "      <td>0</td>\n",
       "      <td>FULL_TIME</td>\n",
       "      <td>USD</td>\n",
       "      <td>BASE_SALARY</td>\n",
       "      <td>55000.0</td>\n",
       "      <td>45202.0</td>\n",
       "      <td>39061.0</td>\n",
       "      <td>Restaurants</td>\n",
       "      <td>False</td>\n",
       "    </tr>\n",
       "    <tr>\n",
       "      <th>3</th>\n",
       "      <td>23221523</td>\n",
       "      <td>Abrams Fensterman, LLP</td>\n",
       "      <td>Senior Elder Law / Trusts and Estates Associat...</td>\n",
       "      <td>Senior Associate Attorney - Elder Law / Trusts...</td>\n",
       "      <td>175000.0</td>\n",
       "      <td>YEARLY</td>\n",
       "      <td>New Hyde Park, NY</td>\n",
       "      <td>766262.0</td>\n",
       "      <td>16.0</td>\n",
       "      <td>NaN</td>\n",
       "      <td>...</td>\n",
       "      <td>NaN</td>\n",
       "      <td>0</td>\n",
       "      <td>FULL_TIME</td>\n",
       "      <td>USD</td>\n",
       "      <td>BASE_SALARY</td>\n",
       "      <td>157500.0</td>\n",
       "      <td>11040.0</td>\n",
       "      <td>36059.0</td>\n",
       "      <td>Law Practice</td>\n",
       "      <td>False</td>\n",
       "    </tr>\n",
       "    <tr>\n",
       "      <th>4</th>\n",
       "      <td>35982263</td>\n",
       "      <td>NaN</td>\n",
       "      <td>Service Technician</td>\n",
       "      <td>Looking for HVAC service tech with experience ...</td>\n",
       "      <td>80000.0</td>\n",
       "      <td>YEARLY</td>\n",
       "      <td>Burlington, IA</td>\n",
       "      <td>NaN</td>\n",
       "      <td>3.0</td>\n",
       "      <td>NaN</td>\n",
       "      <td>...</td>\n",
       "      <td>NaN</td>\n",
       "      <td>0</td>\n",
       "      <td>FULL_TIME</td>\n",
       "      <td>USD</td>\n",
       "      <td>BASE_SALARY</td>\n",
       "      <td>70000.0</td>\n",
       "      <td>52601.0</td>\n",
       "      <td>19057.0</td>\n",
       "      <td>NaN</td>\n",
       "      <td>False</td>\n",
       "    </tr>\n",
       "  </tbody>\n",
       "</table>\n",
       "<p>5 rows × 33 columns</p>\n",
       "</div>"
      ],
      "text/plain": [
       "     job_id            company_name  \\\n",
       "0    921716   Corcoran Sawyer Smith   \n",
       "1   1829192                     NaN   \n",
       "2  10998357  The National Exemplar    \n",
       "3  23221523  Abrams Fensterman, LLP   \n",
       "4  35982263                     NaN   \n",
       "\n",
       "                                               title  \\\n",
       "0                              Marketing Coordinator   \n",
       "1                  Mental Health Therapist/Counselor   \n",
       "2                        Assitant Restaurant Manager   \n",
       "3  Senior Elder Law / Trusts and Estates Associat...   \n",
       "4                                 Service Technician   \n",
       "\n",
       "                                         description  max_salary pay_period  \\\n",
       "0  Job descriptionA leading real estate firm in N...        20.0     HOURLY   \n",
       "1  At Aspen Therapy and Wellness , we are committ...        50.0     HOURLY   \n",
       "2  The National Exemplar is accepting application...     65000.0     YEARLY   \n",
       "3  Senior Associate Attorney - Elder Law / Trusts...    175000.0     YEARLY   \n",
       "4  Looking for HVAC service tech with experience ...     80000.0     YEARLY   \n",
       "\n",
       "            location  company_id  views  med_salary  ...  posting_domain  \\\n",
       "0      Princeton, NJ   2774458.0   20.0         NaN  ...             NaN   \n",
       "1   Fort Collins, CO         NaN    1.0         NaN  ...             NaN   \n",
       "2     Cincinnati, OH  64896719.0    8.0         NaN  ...             NaN   \n",
       "3  New Hyde Park, NY    766262.0   16.0         NaN  ...             NaN   \n",
       "4     Burlington, IA         NaN    3.0         NaN  ...             NaN   \n",
       "\n",
       "  sponsored  work_type  currency  compensation_type normalized_salary  \\\n",
       "0         0  FULL_TIME       USD        BASE_SALARY           38480.0   \n",
       "1         0  FULL_TIME       USD        BASE_SALARY           83200.0   \n",
       "2         0  FULL_TIME       USD        BASE_SALARY           55000.0   \n",
       "3         0  FULL_TIME       USD        BASE_SALARY          157500.0   \n",
       "4         0  FULL_TIME       USD        BASE_SALARY           70000.0   \n",
       "\n",
       "  zip_code     fips      industry  Mentions_AI  \n",
       "0   8540.0  34021.0   Real Estate        False  \n",
       "1  80521.0   8069.0           NaN        False  \n",
       "2  45202.0  39061.0   Restaurants        False  \n",
       "3  11040.0  36059.0  Law Practice        False  \n",
       "4  52601.0  19057.0           NaN        False  \n",
       "\n",
       "[5 rows x 33 columns]"
      ]
     },
     "execution_count": 151,
     "metadata": {},
     "output_type": "execute_result"
    }
   ],
   "source": [
    "postings_df.head(5)"
   ]
  },
  {
   "cell_type": "code",
   "execution_count": 153,
   "id": "c4906263-7c18-480b-93f6-0adf6b0f9514",
   "metadata": {},
   "outputs": [],
   "source": [
    "# creating a new df that shows the percentage of job descriptions in each industry group that mention one of the AI keywords\n",
    "industry_percentages_df = postings_df.groupby('industry')['Mentions_AI'].agg(\n",
    "                        percent=lambda x: x.mean() * 100,\n",
    "                        count='count'\n",
    "                        )"
   ]
  },
  {
   "cell_type": "code",
   "execution_count": 155,
   "id": "59f07740-260f-41a6-a044-be0a8469810e",
   "metadata": {},
   "outputs": [],
   "source": [
    "# outputting the df to check the percentages\n",
    "industry_percentages_df.to_csv('/Users/sabrinaortiz/Desktop/dataProjects/Final_Project/project_data/industry_percentages.csv', index='False')"
   ]
  },
  {
   "cell_type": "markdown",
   "id": "d5a0266c-bc69-4cbf-bb42-3da6920e4376",
   "metadata": {},
   "source": [
    "## Part 2: Creating sample dataset equivalent to 1% "
   ]
  },
  {
   "cell_type": "code",
   "execution_count": 163,
   "id": "649931fd-5260-4d93-95a1-823edc41fd07",
   "metadata": {},
   "outputs": [],
   "source": [
    "true_mentions_ai = postings_df[postings_df['Mentions_AI'] == True]"
   ]
  },
  {
   "cell_type": "code",
   "execution_count": 165,
   "id": "6ac8125a-ac68-44a2-83f8-1eff1e3e8239",
   "metadata": {},
   "outputs": [],
   "source": [
    "sample_postings_df = true_mentions_ai.sample(n=216, random_state=1)"
   ]
  },
  {
   "cell_type": "code",
   "execution_count": 167,
   "id": "835e7f87-b8d4-4e1f-843f-e8b268962fef",
   "metadata": {},
   "outputs": [],
   "source": [
    "sample_postings_df.to_csv('/Users/sabrinaortiz/Desktop/dataProjects/Final_Project/project_data/sample_of_posting_data.csv', index='False')"
   ]
  }
 ],
 "metadata": {
  "kernelspec": {
   "display_name": "Python [conda env:base] *",
   "language": "python",
   "name": "conda-base-py"
  },
  "language_info": {
   "codemirror_mode": {
    "name": "ipython",
    "version": 3
   },
   "file_extension": ".py",
   "mimetype": "text/x-python",
   "name": "python",
   "nbconvert_exporter": "python",
   "pygments_lexer": "ipython3",
   "version": "3.12.7"
  }
 },
 "nbformat": 4,
 "nbformat_minor": 5
}
